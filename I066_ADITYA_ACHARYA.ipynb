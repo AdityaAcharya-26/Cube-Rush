{
  "nbformat": 4,
  "nbformat_minor": 0,
  "metadata": {
    "colab": {
      "provenance": [],
      "authorship_tag": "ABX9TyM0xnXa+PZyKkTQZZ+0nIsB",
      "include_colab_link": true
    },
    "kernelspec": {
      "name": "python3",
      "display_name": "Python 3"
    },
    "language_info": {
      "name": "python"
    }
  },
  "cells": [
    {
      "cell_type": "markdown",
      "metadata": {
        "id": "view-in-github",
        "colab_type": "text"
      },
      "source": [
        "<a href=\"https://colab.research.google.com/github/Dr0nacharya/Cube-Rush/blob/main/I066_ADITYA_ACHARYA.ipynb\" target=\"_parent\"><img src=\"https://colab.research.google.com/assets/colab-badge.svg\" alt=\"Open In Colab\"/></a>"
      ]
    },
    {
      "cell_type": "code",
      "execution_count": 1,
      "metadata": {
        "colab": {
          "base_uri": "https://localhost:8080/"
        },
        "id": "SWynOeoS58Av",
        "outputId": "07bb8d9e-cea1-49be-84ef-a5944fac0df1"
      },
      "outputs": [
        {
          "output_type": "stream",
          "name": "stdout",
          "text": [
            "Looking in indexes: https://pypi.org/simple, https://us-python.pkg.dev/colab-wheels/public/simple/\n",
            "Collecting pgmpy\n",
            "  Downloading pgmpy-0.1.20-py3-none-any.whl (1.9 MB)\n",
            "\u001b[K     |████████████████████████████████| 1.9 MB 7.5 MB/s \n",
            "\u001b[?25hRequirement already satisfied: scikit-learn in /usr/local/lib/python3.8/dist-packages (from pgmpy) (1.0.2)\n",
            "Requirement already satisfied: pandas in /usr/local/lib/python3.8/dist-packages (from pgmpy) (1.3.5)\n",
            "Requirement already satisfied: statsmodels in /usr/local/lib/python3.8/dist-packages (from pgmpy) (0.12.2)\n",
            "Requirement already satisfied: opt-einsum in /usr/local/lib/python3.8/dist-packages (from pgmpy) (3.3.0)\n",
            "Requirement already satisfied: torch in /usr/local/lib/python3.8/dist-packages (from pgmpy) (1.13.0+cu116)\n",
            "Requirement already satisfied: scipy in /usr/local/lib/python3.8/dist-packages (from pgmpy) (1.7.3)\n",
            "Requirement already satisfied: pyparsing in /usr/local/lib/python3.8/dist-packages (from pgmpy) (3.0.9)\n",
            "Requirement already satisfied: joblib in /usr/local/lib/python3.8/dist-packages (from pgmpy) (1.2.0)\n",
            "Requirement already satisfied: numpy in /usr/local/lib/python3.8/dist-packages (from pgmpy) (1.21.6)\n",
            "Requirement already satisfied: networkx in /usr/local/lib/python3.8/dist-packages (from pgmpy) (2.8.8)\n",
            "Requirement already satisfied: tqdm in /usr/local/lib/python3.8/dist-packages (from pgmpy) (4.64.1)\n",
            "Requirement already satisfied: python-dateutil>=2.7.3 in /usr/local/lib/python3.8/dist-packages (from pandas->pgmpy) (2.8.2)\n",
            "Requirement already satisfied: pytz>=2017.3 in /usr/local/lib/python3.8/dist-packages (from pandas->pgmpy) (2022.6)\n",
            "Requirement already satisfied: six>=1.5 in /usr/local/lib/python3.8/dist-packages (from python-dateutil>=2.7.3->pandas->pgmpy) (1.15.0)\n",
            "Requirement already satisfied: threadpoolctl>=2.0.0 in /usr/local/lib/python3.8/dist-packages (from scikit-learn->pgmpy) (3.1.0)\n",
            "Requirement already satisfied: patsy>=0.5 in /usr/local/lib/python3.8/dist-packages (from statsmodels->pgmpy) (0.5.3)\n",
            "Requirement already satisfied: typing-extensions in /usr/local/lib/python3.8/dist-packages (from torch->pgmpy) (4.4.0)\n",
            "Installing collected packages: pgmpy\n",
            "Successfully installed pgmpy-0.1.20\n"
          ]
        }
      ],
      "source": [
        "!pip install pgmpy"
      ]
    },
    {
      "cell_type": "code",
      "source": [
        "import numpy as np\n",
        "\n",
        "from pgmpy.factors.discrete import DiscreteFactor\n",
        "from pgmpy.independencies import Independencies\n",
        "from pgmpy.factors.discrete import JointProbabilityDistribution as Joint\n",
        "distribution = Joint(['coin1', 'coin2'], \n",
        "                              [2, 2], \n",
        "                              [0.25, 0.25, 0.25, 0.25])"
      ],
      "metadata": {
        "id": "1f3Hs7hp7Eb3"
      },
      "execution_count": 7,
      "outputs": []
    },
    {
      "cell_type": "code",
      "source": [
        "print(distribution)"
      ],
      "metadata": {
        "colab": {
          "base_uri": "https://localhost:8080/"
        },
        "id": "1ihUd7Mj9ZPk",
        "outputId": "5a5c0b6b-f46e-4e19-9842-782317d76ef5"
      },
      "execution_count": 10,
      "outputs": [
        {
          "output_type": "stream",
          "name": "stdout",
          "text": [
            "+----------+----------+------------------+\n",
            "| coin1    | coin2    |   P(coin1,coin2) |\n",
            "+==========+==========+==================+\n",
            "| coin1(0) | coin2(0) |           0.2500 |\n",
            "+----------+----------+------------------+\n",
            "| coin1(0) | coin2(1) |           0.2500 |\n",
            "+----------+----------+------------------+\n",
            "| coin1(1) | coin2(0) |           0.2500 |\n",
            "+----------+----------+------------------+\n",
            "| coin1(1) | coin2(1) |           0.2500 |\n",
            "+----------+----------+------------------+\n"
          ]
        }
      ]
    },
    {
      "cell_type": "code",
      "source": [
        "distribution.marginal_distribution(['coin1'])\n"
      ],
      "metadata": {
        "id": "-at7fsYv8zhR"
      },
      "execution_count": 18,
      "outputs": []
    },
    {
      "cell_type": "code",
      "source": [
        "print(distribution)"
      ],
      "metadata": {
        "colab": {
          "base_uri": "https://localhost:8080/"
        },
        "id": "sMTsdRNT-6Ai",
        "outputId": "64b9122f-3c62-4e66-a52c-4b581788267b"
      },
      "execution_count": 19,
      "outputs": [
        {
          "output_type": "stream",
          "name": "stdout",
          "text": [
            "+----------+------------+\n",
            "| coin1    |   P(coin1) |\n",
            "+==========+============+\n",
            "| coin1(0) |     0.5000 |\n",
            "+----------+------------+\n",
            "| coin1(1) |     0.5000 |\n",
            "+----------+------------+\n"
          ]
        }
      ]
    },
    {
      "cell_type": "code",
      "source": [
        "distribution.check_independence(['coin1'], ['coin2'])"
      ],
      "metadata": {
        "colab": {
          "base_uri": "https://localhost:8080/"
        },
        "id": "GtzXmKJ--9Qh",
        "outputId": "1e49cc05-8bfd-43cf-bda7-9a90ae2cb90c"
      },
      "execution_count": 17,
      "outputs": [
        {
          "output_type": "execute_result",
          "data": {
            "text/plain": [
              "True"
            ]
          },
          "metadata": {},
          "execution_count": 17
        }
      ]
    },
    {
      "cell_type": "markdown",
      "source": [
        "#2 coins"
      ],
      "metadata": {
        "id": "e-paX5ayAuT5"
      }
    },
    {
      "cell_type": "code",
      "source": [
        "distribution = Joint(['dice1', 'dice2'],[6, 6],[1/36]*36)"
      ],
      "metadata": {
        "id": "sDnT7vCN_Cfz"
      },
      "execution_count": 21,
      "outputs": []
    },
    {
      "cell_type": "code",
      "source": [
        "print(distribution)"
      ],
      "metadata": {
        "colab": {
          "base_uri": "https://localhost:8080/"
        },
        "id": "upYJ5gY-AZJC",
        "outputId": "56a1b85c-7b0d-41f6-f060-63e1f606bd9f"
      },
      "execution_count": 22,
      "outputs": [
        {
          "output_type": "stream",
          "name": "stdout",
          "text": [
            "+----------+----------+------------------+\n",
            "| dice1    | dice2    |   P(dice1,dice2) |\n",
            "+==========+==========+==================+\n",
            "| dice1(0) | dice2(0) |           0.0278 |\n",
            "+----------+----------+------------------+\n",
            "| dice1(0) | dice2(1) |           0.0278 |\n",
            "+----------+----------+------------------+\n",
            "| dice1(0) | dice2(2) |           0.0278 |\n",
            "+----------+----------+------------------+\n",
            "| dice1(0) | dice2(3) |           0.0278 |\n",
            "+----------+----------+------------------+\n",
            "| dice1(0) | dice2(4) |           0.0278 |\n",
            "+----------+----------+------------------+\n",
            "| dice1(0) | dice2(5) |           0.0278 |\n",
            "+----------+----------+------------------+\n",
            "| dice1(1) | dice2(0) |           0.0278 |\n",
            "+----------+----------+------------------+\n",
            "| dice1(1) | dice2(1) |           0.0278 |\n",
            "+----------+----------+------------------+\n",
            "| dice1(1) | dice2(2) |           0.0278 |\n",
            "+----------+----------+------------------+\n",
            "| dice1(1) | dice2(3) |           0.0278 |\n",
            "+----------+----------+------------------+\n",
            "| dice1(1) | dice2(4) |           0.0278 |\n",
            "+----------+----------+------------------+\n",
            "| dice1(1) | dice2(5) |           0.0278 |\n",
            "+----------+----------+------------------+\n",
            "| dice1(2) | dice2(0) |           0.0278 |\n",
            "+----------+----------+------------------+\n",
            "| dice1(2) | dice2(1) |           0.0278 |\n",
            "+----------+----------+------------------+\n",
            "| dice1(2) | dice2(2) |           0.0278 |\n",
            "+----------+----------+------------------+\n",
            "| dice1(2) | dice2(3) |           0.0278 |\n",
            "+----------+----------+------------------+\n",
            "| dice1(2) | dice2(4) |           0.0278 |\n",
            "+----------+----------+------------------+\n",
            "| dice1(2) | dice2(5) |           0.0278 |\n",
            "+----------+----------+------------------+\n",
            "| dice1(3) | dice2(0) |           0.0278 |\n",
            "+----------+----------+------------------+\n",
            "| dice1(3) | dice2(1) |           0.0278 |\n",
            "+----------+----------+------------------+\n",
            "| dice1(3) | dice2(2) |           0.0278 |\n",
            "+----------+----------+------------------+\n",
            "| dice1(3) | dice2(3) |           0.0278 |\n",
            "+----------+----------+------------------+\n",
            "| dice1(3) | dice2(4) |           0.0278 |\n",
            "+----------+----------+------------------+\n",
            "| dice1(3) | dice2(5) |           0.0278 |\n",
            "+----------+----------+------------------+\n",
            "| dice1(4) | dice2(0) |           0.0278 |\n",
            "+----------+----------+------------------+\n",
            "| dice1(4) | dice2(1) |           0.0278 |\n",
            "+----------+----------+------------------+\n",
            "| dice1(4) | dice2(2) |           0.0278 |\n",
            "+----------+----------+------------------+\n",
            "| dice1(4) | dice2(3) |           0.0278 |\n",
            "+----------+----------+------------------+\n",
            "| dice1(4) | dice2(4) |           0.0278 |\n",
            "+----------+----------+------------------+\n",
            "| dice1(4) | dice2(5) |           0.0278 |\n",
            "+----------+----------+------------------+\n",
            "| dice1(5) | dice2(0) |           0.0278 |\n",
            "+----------+----------+------------------+\n",
            "| dice1(5) | dice2(1) |           0.0278 |\n",
            "+----------+----------+------------------+\n",
            "| dice1(5) | dice2(2) |           0.0278 |\n",
            "+----------+----------+------------------+\n",
            "| dice1(5) | dice2(3) |           0.0278 |\n",
            "+----------+----------+------------------+\n",
            "| dice1(5) | dice2(4) |           0.0278 |\n",
            "+----------+----------+------------------+\n",
            "| dice1(5) | dice2(5) |           0.0278 |\n",
            "+----------+----------+------------------+\n"
          ]
        }
      ]
    },
    {
      "cell_type": "code",
      "source": [
        "distribution.marginal_distribution(['dice1'])"
      ],
      "metadata": {
        "id": "7aUMP8nEAfeC"
      },
      "execution_count": 23,
      "outputs": []
    },
    {
      "cell_type": "code",
      "source": [
        "print(distribution)"
      ],
      "metadata": {
        "colab": {
          "base_uri": "https://localhost:8080/"
        },
        "id": "3ySzd3SNAi3B",
        "outputId": "1a053a15-b353-44be-8edb-4dd370c08120"
      },
      "execution_count": 24,
      "outputs": [
        {
          "output_type": "stream",
          "name": "stdout",
          "text": [
            "+----------+------------+\n",
            "| dice1    |   P(dice1) |\n",
            "+==========+============+\n",
            "| dice1(0) |     0.1667 |\n",
            "+----------+------------+\n",
            "| dice1(1) |     0.1667 |\n",
            "+----------+------------+\n",
            "| dice1(2) |     0.1667 |\n",
            "+----------+------------+\n",
            "| dice1(3) |     0.1667 |\n",
            "+----------+------------+\n",
            "| dice1(4) |     0.1667 |\n",
            "+----------+------------+\n",
            "| dice1(5) |     0.1667 |\n",
            "+----------+------------+\n"
          ]
        }
      ]
    },
    {
      "cell_type": "code",
      "source": [
        "distribution.check_independence(['dice1'], ['dice2'])"
      ],
      "metadata": {
        "colab": {
          "base_uri": "https://localhost:8080/"
        },
        "id": "zc3SeRvjAk5p",
        "outputId": "b41fbc3a-e5f4-4c68-bdcf-23e5fe99ce23"
      },
      "execution_count": 25,
      "outputs": [
        {
          "output_type": "execute_result",
          "data": {
            "text/plain": [
              "True"
            ]
          },
          "metadata": {},
          "execution_count": 25
        }
      ]
    },
    {
      "cell_type": "markdown",
      "source": [
        "#1 dice 1 coin"
      ],
      "metadata": {
        "id": "r-udBBSkAqUx"
      }
    },
    {
      "cell_type": "code",
      "source": [
        "\n",
        "distribution = Joint(['dice', 'coin'],[6, 2],[1/12]*12)"
      ],
      "metadata": {
        "id": "JTacSIpkAn0Z"
      },
      "execution_count": 33,
      "outputs": []
    },
    {
      "cell_type": "code",
      "source": [
        "print(distribution)"
      ],
      "metadata": {
        "colab": {
          "base_uri": "https://localhost:8080/"
        },
        "id": "BvKxi48sBgNw",
        "outputId": "640d9244-83bf-48c6-f9fc-26f63a454a46"
      },
      "execution_count": 31,
      "outputs": [
        {
          "output_type": "stream",
          "name": "stdout",
          "text": [
            "+---------+---------+----------------+\n",
            "| dice    | coin    |   P(dice,coin) |\n",
            "+=========+=========+================+\n",
            "| dice(0) | coin(0) |         0.0833 |\n",
            "+---------+---------+----------------+\n",
            "| dice(0) | coin(1) |         0.0833 |\n",
            "+---------+---------+----------------+\n",
            "| dice(1) | coin(0) |         0.0833 |\n",
            "+---------+---------+----------------+\n",
            "| dice(1) | coin(1) |         0.0833 |\n",
            "+---------+---------+----------------+\n",
            "| dice(2) | coin(0) |         0.0833 |\n",
            "+---------+---------+----------------+\n",
            "| dice(2) | coin(1) |         0.0833 |\n",
            "+---------+---------+----------------+\n",
            "| dice(3) | coin(0) |         0.0833 |\n",
            "+---------+---------+----------------+\n",
            "| dice(3) | coin(1) |         0.0833 |\n",
            "+---------+---------+----------------+\n",
            "| dice(4) | coin(0) |         0.0833 |\n",
            "+---------+---------+----------------+\n",
            "| dice(4) | coin(1) |         0.0833 |\n",
            "+---------+---------+----------------+\n",
            "| dice(5) | coin(0) |         0.0833 |\n",
            "+---------+---------+----------------+\n",
            "| dice(5) | coin(1) |         0.0833 |\n",
            "+---------+---------+----------------+\n"
          ]
        }
      ]
    },
    {
      "cell_type": "code",
      "source": [
        "distribution.marginal_distribution(['dice1'])"
      ],
      "metadata": {
        "id": "cIIZv_46Bulb"
      },
      "execution_count": 32,
      "outputs": []
    }
  ]
}